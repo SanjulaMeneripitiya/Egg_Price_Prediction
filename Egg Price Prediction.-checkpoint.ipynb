{
 "cells": [
  {
   "cell_type": "markdown",
   "metadata": {},
   "source": [
    "# Egg Price Prediction."
   ]
  },
  {
   "cell_type": "markdown",
   "metadata": {},
   "source": [
    "            In this part we will go through with our data set and contrast the demand equation to predict the well fit price for our product. \n",
    "In order to do that we have to analyze Production and consumer behaviors accordingly,\n",
    "\n",
    "Production Analysis.\n",
    "\n",
    "            When we predict the price for a product, we need to analyze how much cost does it takes for production.\n",
    "\n",
    "    The cost that need to held in a production:\n",
    "\n",
    "        P/O/C :\tRs. 200\t\n",
    "        Avg. Feed Cost : Rs. 72 (1 Kg.)\t\n",
    "        Building Cost :\t200 sqft. Rs. 3000 – Rs. 2000.\t\n",
    "        Drug & Medicine : Rs. 30 – Rs. 40 / Per Bird\t1 Month\n",
    "        Labor Cost : 500 birds/ 1 labor / Rs. 1200\tPer day\n",
    "        Other price (Water/ Electricity) : Rs. 5 – Rs. 10 / Per Bird\t1 Month\n",
    "    \n",
    "    Source: Department of Poultry National (North Central South Province)\n",
    "\n",
    "\n",
    "Department of Poultry National (North Central South Province) have biggest production in Sri Lanka. According to their data average egg production per year is 70% in peak time it increased to 80% by 1 and half year-old bird. This curve shows it. \n",
    " \n",
    "According to All island Poultry Association and Department of Poultry National (North Central South Province) information the retail price for an egg is Rs. 26 – Rs. 28 and the cost of Production is Rs. 13 – Rs. 15.\n"
   ]
  },
  {
   "cell_type": "markdown",
   "metadata": {},
   "source": [
    "#### So to do the analysis we need to load the libaries that we need."
   ]
  },
  {
   "cell_type": "code",
   "execution_count": 1,
   "metadata": {},
   "outputs": [],
   "source": [
    "import pandas as  pd\n",
    "import numpy as np\n",
    "import matplotlib.pyplot as plt\n",
    "import seaborn as sns\n",
    "from scipy.stats import linregress"
   ]
  },
  {
   "cell_type": "markdown",
   "metadata": {},
   "source": [
    "#### Read the data we gather from household."
   ]
  },
  {
   "cell_type": "code",
   "execution_count": 2,
   "metadata": {
    "scrolled": true
   },
   "outputs": [
    {
     "data": {
      "text/html": [
       "<div>\n",
       "<style scoped>\n",
       "    .dataframe tbody tr th:only-of-type {\n",
       "        vertical-align: middle;\n",
       "    }\n",
       "\n",
       "    .dataframe tbody tr th {\n",
       "        vertical-align: top;\n",
       "    }\n",
       "\n",
       "    .dataframe thead th {\n",
       "        text-align: right;\n",
       "    }\n",
       "</style>\n",
       "<table border=\"1\" class=\"dataframe\">\n",
       "  <thead>\n",
       "    <tr style=\"text-align: right;\">\n",
       "      <th></th>\n",
       "      <th>id</th>\n",
       "      <th>price</th>\n",
       "      <th>quantity</th>\n",
       "      <th>no of family members</th>\n",
       "    </tr>\n",
       "  </thead>\n",
       "  <tbody>\n",
       "    <tr>\n",
       "      <th>0</th>\n",
       "      <td>1</td>\n",
       "      <td>16</td>\n",
       "      <td>66</td>\n",
       "      <td>5</td>\n",
       "    </tr>\n",
       "    <tr>\n",
       "      <th>1</th>\n",
       "      <td>1</td>\n",
       "      <td>18</td>\n",
       "      <td>50</td>\n",
       "      <td>5</td>\n",
       "    </tr>\n",
       "    <tr>\n",
       "      <th>2</th>\n",
       "      <td>1</td>\n",
       "      <td>20</td>\n",
       "      <td>48</td>\n",
       "      <td>5</td>\n",
       "    </tr>\n",
       "    <tr>\n",
       "      <th>3</th>\n",
       "      <td>1</td>\n",
       "      <td>22</td>\n",
       "      <td>30</td>\n",
       "      <td>5</td>\n",
       "    </tr>\n",
       "    <tr>\n",
       "      <th>4</th>\n",
       "      <td>1</td>\n",
       "      <td>24</td>\n",
       "      <td>21</td>\n",
       "      <td>5</td>\n",
       "    </tr>\n",
       "  </tbody>\n",
       "</table>\n",
       "</div>"
      ],
      "text/plain": [
       "   id  price  quantity  no of family members\n",
       "0   1     16        66                     5\n",
       "1   1     18        50                     5\n",
       "2   1     20        48                     5\n",
       "3   1     22        30                     5\n",
       "4   1     24        21                     5"
      ]
     },
     "execution_count": 2,
     "metadata": {},
     "output_type": "execute_result"
    }
   ],
   "source": [
    "egg_demand = pd.read_csv('egg_demand.csv')\n",
    "egg_demand.head()"
   ]
  },
  {
   "cell_type": "markdown",
   "metadata": {},
   "source": [
    "### Consumer Behavior Presentation and Analysis.\n",
    "\n",
    "    In this section we directly dive in to our sample data, and try to get some insights from this data."
   ]
  },
  {
   "cell_type": "markdown",
   "metadata": {},
   "source": [
    "### Price and Quantity Analysis."
   ]
  },
  {
   "cell_type": "code",
   "execution_count": 3,
   "metadata": {
    "scrolled": true
   },
   "outputs": [
    {
     "data": {
      "text/plain": [
       "price\n",
       "15    1403\n",
       "16    1781\n",
       "17    1892\n",
       "18    1566\n",
       "19    1159\n",
       "20    1573\n",
       "21     685\n",
       "22     863\n",
       "23     836\n",
       "24     867\n",
       "25    1049\n",
       "26     638\n",
       "27     893\n",
       "28     669\n",
       "29     595\n",
       "Name: quantity, dtype: int64"
      ]
     },
     "execution_count": 3,
     "metadata": {},
     "output_type": "execute_result"
    }
   ],
   "source": [
    "result1 = egg_demand.groupby('price').sum()['quantity']\n",
    "result1"
   ]
  },
  {
   "cell_type": "markdown",
   "metadata": {},
   "source": [
    "By below graph shows that how consumer behavior manipulates with the price. Most of consumers like to buy eggs within 15 – 20\n",
    "price range. 21 – 29 price range shows that consumers are not willing to buy eggs.  "
   ]
  },
  {
   "cell_type": "code",
   "execution_count": 4,
   "metadata": {},
   "outputs": [
    {
     "data": {
      "image/png": "[encoded data removed]",
      "text/plain": [
       "<Figure size 432x288 with 1 Axes>"
      ]
     },
     "metadata": {
      "needs_background": "light"
     },
     "output_type": "display_data"
    }
   ],
   "source": [
    "prices = [price for price, df in egg_demand.groupby('price')]\n",
    "\n",
    "plt.bar(prices,result1,color = 'b')\n",
    "plt.xticks(prices, size=8)\n",
    "plt.ylabel('Quantity')\n",
    "plt.xlabel('Prices')\n",
    "plt.savefig(\"Qty-Price.png\")\n",
    "plt.show()"
   ]
  },
  {
   "cell_type": "code",
   "execution_count": 5,
   "metadata": {},
   "outputs": [
    {
     "data": {
      "image/png": "[encoded data removed]",
      "text/plain": [
       "<Figure size 432x432 with 1 Axes>"
      ]
     },
     "metadata": {},
     "output_type": "display_data"
    }
   ],
   "source": [
    "Total=result1.sum()\n",
    "plt.figure(figsize=(6,6))\n",
    "plt.style.use('ggplot')\n",
    "Tol_pre=egg_demand.groupby('price').sum()['quantity']\n",
    "plt.pie(Tol_pre,autopct='%.2f %%')\n",
    "plt.legend(prices, title = 'Prices')\n",
    "plt.savefig(\"Qty-Price-Pie.png\")\n",
    "plt.show()"
   ]
  },
  {
   "cell_type": "markdown",
   "metadata": {},
   "source": [
    "As Above pie chart, we can see 11.49% consumers are willing buy eggs with 17 rupees. Also, people are more like to buy eggs \n",
    "price with Rs.16 (10.81%), Rs. 20 (9.55%) and Rs. 18(9.51%). But we can see the consumer’s willingness to buy an egg is rapidly\n",
    "changing after 20 rupees, it shows low percentages for that. Most of are below 5%. But we can’t come up with an exact price for\n",
    "egg by looking at this graphs and data we need more evidence to predict the effective price for egg. In order to do that we can\n",
    "look, how the consumer behavior changed with price, quantity with their number of family members."
   ]
  },
  {
   "cell_type": "markdown",
   "metadata": {},
   "source": [
    "#### Conclusion 1, in this analysis we have conclusion like, our product should be around Rs. 17 – Rs.22."
   ]
  },
  {
   "cell_type": "markdown",
   "metadata": {},
   "source": [
    "### Changes of Price and Quantity due to Number of Family Members.\n",
    "        In here we going take a look, how the price and quantity change due to number od family members. The number of family\n",
    "        do big influence to our price and quantity, because if the number of family member gets high, the quantity  of eggs they buy will be getting high but they are like to buy an egg for low price. Lets see how our sample data set shows this manipulation."
   ]
  },
  {
   "cell_type": "code",
   "execution_count": 6,
   "metadata": {
    "scrolled": true
   },
   "outputs": [
    {
     "data": {
      "text/html": [
       "<div>\n",
       "<style scoped>\n",
       "    .dataframe tbody tr th:only-of-type {\n",
       "        vertical-align: middle;\n",
       "    }\n",
       "\n",
       "    .dataframe tbody tr th {\n",
       "        vertical-align: top;\n",
       "    }\n",
       "\n",
       "    .dataframe thead th {\n",
       "        text-align: right;\n",
       "    }\n",
       "</style>\n",
       "<table border=\"1\" class=\"dataframe\">\n",
       "  <thead>\n",
       "    <tr style=\"text-align: right;\">\n",
       "      <th></th>\n",
       "      <th>id</th>\n",
       "      <th>price</th>\n",
       "      <th>quantity</th>\n",
       "    </tr>\n",
       "    <tr>\n",
       "      <th>no of family members</th>\n",
       "      <th></th>\n",
       "      <th></th>\n",
       "      <th></th>\n",
       "    </tr>\n",
       "  </thead>\n",
       "  <tbody>\n",
       "    <tr>\n",
       "      <th>2</th>\n",
       "      <td>1350</td>\n",
       "      <td>873</td>\n",
       "      <td>1756</td>\n",
       "    </tr>\n",
       "    <tr>\n",
       "      <th>3</th>\n",
       "      <td>1810</td>\n",
       "      <td>1211</td>\n",
       "      <td>2398</td>\n",
       "    </tr>\n",
       "    <tr>\n",
       "      <th>4</th>\n",
       "      <td>3505</td>\n",
       "      <td>1672</td>\n",
       "      <td>3313</td>\n",
       "    </tr>\n",
       "    <tr>\n",
       "      <th>5</th>\n",
       "      <td>1850</td>\n",
       "      <td>1674</td>\n",
       "      <td>3550</td>\n",
       "    </tr>\n",
       "    <tr>\n",
       "      <th>6</th>\n",
       "      <td>3450</td>\n",
       "      <td>1550</td>\n",
       "      <td>3064</td>\n",
       "    </tr>\n",
       "    <tr>\n",
       "      <th>7</th>\n",
       "      <td>2285</td>\n",
       "      <td>1221</td>\n",
       "      <td>2388</td>\n",
       "    </tr>\n",
       "  </tbody>\n",
       "</table>\n",
       "</div>"
      ],
      "text/plain": [
       "                        id  price  quantity\n",
       "no of family members                       \n",
       "2                     1350    873      1756\n",
       "3                     1810   1211      2398\n",
       "4                     3505   1672      3313\n",
       "5                     1850   1674      3550\n",
       "6                     3450   1550      3064\n",
       "7                     2285   1221      2388"
      ]
     },
     "execution_count": 6,
     "metadata": {},
     "output_type": "execute_result"
    }
   ],
   "source": [
    "results2 = egg_demand.groupby(['no of family members']).sum()\n",
    "results2"
   ]
  },
  {
   "cell_type": "code",
   "execution_count": 7,
   "metadata": {
    "scrolled": true
   },
   "outputs": [
    {
     "data": {
      "image/png": "[encoded data removed]",
      "text/plain": [
       "<Figure size 432x288 with 1 Axes>"
      ]
     },
     "metadata": {},
     "output_type": "display_data"
    }
   ],
   "source": [
    "members = [member for member, df in egg_demand.groupby('no of family members')]\n",
    "\n",
    "plt.bar(members,results2['quantity'],color = 'b')\n",
    "plt.xticks(members,rotation = 'vertical' , size=8)\n",
    "plt.ylabel('Quantity')\n",
    "plt.xlabel('No of Family Members')\n",
    "plt.savefig(\"Famaly-Qty.png\")\n",
    "plt.show()"
   ]
  },
  {
   "cell_type": "markdown",
   "metadata": {},
   "source": [
    "So, as we discussed we can see when the number of family members increased the quantity of eggs, they buy also gets increase. \n",
    "But after the number of family members gets more than 5 the willingness to buy eggs is getting low.\n"
   ]
  },
  {
   "cell_type": "code",
   "execution_count": 8,
   "metadata": {
    "scrolled": true
   },
   "outputs": [
    {
     "data": {
      "image/png": "[encoded data removed]",
      "text/plain": [
       "<Figure size 576x360 with 1 Axes>"
      ]
     },
     "metadata": {},
     "output_type": "display_data"
    }
   ],
   "source": [
    "\n",
    "plt.style.use('ggplot')\n",
    "plt.figure(figsize=(8,5))\n",
    "\n",
    "Tol_pre1=egg_demand.groupby('no of family members').sum()['quantity']\n",
    "plt.pie(Tol_pre1,autopct='%.2f %%')\n",
    "plt.legend(members, title = 'Members',loc='upper right')\n",
    "plt.savefig(\"Famaly-Qty-pie.png\")\n",
    "plt.show()"
   ]
  },
  {
   "cell_type": "markdown",
   "metadata": {},
   "source": [
    "According to pie chart it shows 21.56% of quantity will buy by 5 members family, 20.12% of quantity will buy by 4 members of \n",
    "family and 18.60% of quantity will buy 6 members of family. So, in this case we can come up with a conclusion like we should \n",
    "focus to above categories because they give more sales for our product.  "
   ]
  },
  {
   "cell_type": "markdown",
   "metadata": {},
   "source": [
    "#### Conclusion 2, we should give more attention to families that with 4,5 and 6 members"
   ]
  },
  {
   "cell_type": "code",
   "execution_count": 9,
   "metadata": {
    "scrolled": true
   },
   "outputs": [
    {
     "data": {
      "text/html": [
       "<div>\n",
       "<style scoped>\n",
       "    .dataframe tbody tr th:only-of-type {\n",
       "        vertical-align: middle;\n",
       "    }\n",
       "\n",
       "    .dataframe tbody tr th {\n",
       "        vertical-align: top;\n",
       "    }\n",
       "\n",
       "    .dataframe thead th {\n",
       "        text-align: right;\n",
       "    }\n",
       "</style>\n",
       "<table border=\"1\" class=\"dataframe\">\n",
       "  <thead>\n",
       "    <tr style=\"text-align: right;\">\n",
       "      <th></th>\n",
       "      <th>id</th>\n",
       "      <th>price</th>\n",
       "      <th>quantity</th>\n",
       "    </tr>\n",
       "    <tr>\n",
       "      <th>no of family members</th>\n",
       "      <th></th>\n",
       "      <th></th>\n",
       "      <th></th>\n",
       "    </tr>\n",
       "  </thead>\n",
       "  <tbody>\n",
       "    <tr>\n",
       "      <th>2</th>\n",
       "      <td>33.750000</td>\n",
       "      <td>21.825000</td>\n",
       "      <td>43.900000</td>\n",
       "    </tr>\n",
       "    <tr>\n",
       "      <th>3</th>\n",
       "      <td>32.909091</td>\n",
       "      <td>22.018182</td>\n",
       "      <td>43.600000</td>\n",
       "    </tr>\n",
       "    <tr>\n",
       "      <th>4</th>\n",
       "      <td>46.733333</td>\n",
       "      <td>22.293333</td>\n",
       "      <td>44.173333</td>\n",
       "    </tr>\n",
       "    <tr>\n",
       "      <th>5</th>\n",
       "      <td>23.125000</td>\n",
       "      <td>20.925000</td>\n",
       "      <td>44.375000</td>\n",
       "    </tr>\n",
       "    <tr>\n",
       "      <th>6</th>\n",
       "      <td>49.285714</td>\n",
       "      <td>22.142857</td>\n",
       "      <td>43.771429</td>\n",
       "    </tr>\n",
       "    <tr>\n",
       "      <th>7</th>\n",
       "      <td>41.545455</td>\n",
       "      <td>22.200000</td>\n",
       "      <td>43.418182</td>\n",
       "    </tr>\n",
       "  </tbody>\n",
       "</table>\n",
       "</div>"
      ],
      "text/plain": [
       "                             id      price   quantity\n",
       "no of family members                                 \n",
       "2                     33.750000  21.825000  43.900000\n",
       "3                     32.909091  22.018182  43.600000\n",
       "4                     46.733333  22.293333  44.173333\n",
       "5                     23.125000  20.925000  44.375000\n",
       "6                     49.285714  22.142857  43.771429\n",
       "7                     41.545455  22.200000  43.418182"
      ]
     },
     "execution_count": 9,
     "metadata": {},
     "output_type": "execute_result"
    }
   ],
   "source": [
    "results3 = egg_demand.groupby(['no of family members']).mean()\n",
    "results3"
   ]
  },
  {
   "cell_type": "code",
   "execution_count": 10,
   "metadata": {},
   "outputs": [
    {
     "data": {
      "text/html": [
       "<div>\n",
       "<style scoped>\n",
       "    .dataframe tbody tr th:only-of-type {\n",
       "        vertical-align: middle;\n",
       "    }\n",
       "\n",
       "    .dataframe tbody tr th {\n",
       "        vertical-align: top;\n",
       "    }\n",
       "\n",
       "    .dataframe thead th {\n",
       "        text-align: right;\n",
       "    }\n",
       "</style>\n",
       "<table border=\"1\" class=\"dataframe\">\n",
       "  <thead>\n",
       "    <tr style=\"text-align: right;\">\n",
       "      <th></th>\n",
       "      <th>id</th>\n",
       "      <th>price</th>\n",
       "      <th>quantity</th>\n",
       "    </tr>\n",
       "    <tr>\n",
       "      <th>no of family members</th>\n",
       "      <th></th>\n",
       "      <th></th>\n",
       "      <th></th>\n",
       "    </tr>\n",
       "  </thead>\n",
       "  <tbody>\n",
       "    <tr>\n",
       "      <th>2</th>\n",
       "      <td>1350</td>\n",
       "      <td>873</td>\n",
       "      <td>1756</td>\n",
       "    </tr>\n",
       "    <tr>\n",
       "      <th>3</th>\n",
       "      <td>1810</td>\n",
       "      <td>1211</td>\n",
       "      <td>2398</td>\n",
       "    </tr>\n",
       "    <tr>\n",
       "      <th>4</th>\n",
       "      <td>3505</td>\n",
       "      <td>1672</td>\n",
       "      <td>3313</td>\n",
       "    </tr>\n",
       "    <tr>\n",
       "      <th>5</th>\n",
       "      <td>1850</td>\n",
       "      <td>1674</td>\n",
       "      <td>3550</td>\n",
       "    </tr>\n",
       "    <tr>\n",
       "      <th>6</th>\n",
       "      <td>3450</td>\n",
       "      <td>1550</td>\n",
       "      <td>3064</td>\n",
       "    </tr>\n",
       "    <tr>\n",
       "      <th>7</th>\n",
       "      <td>2285</td>\n",
       "      <td>1221</td>\n",
       "      <td>2388</td>\n",
       "    </tr>\n",
       "  </tbody>\n",
       "</table>\n",
       "</div>"
      ],
      "text/plain": [
       "                        id  price  quantity\n",
       "no of family members                       \n",
       "2                     1350    873      1756\n",
       "3                     1810   1211      2398\n",
       "4                     3505   1672      3313\n",
       "5                     1850   1674      3550\n",
       "6                     3450   1550      3064\n",
       "7                     2285   1221      2388"
      ]
     },
     "execution_count": 10,
     "metadata": {},
     "output_type": "execute_result"
    }
   ],
   "source": [
    "family_group = egg_demand.groupby('no of family members')\n",
    "family_group.sum()"
   ]
  },
  {
   "cell_type": "code",
   "execution_count": 11,
   "metadata": {},
   "outputs": [],
   "source": [
    "Quantity_Ordered = family_group.sum()['quantity']"
   ]
  },
  {
   "cell_type": "code",
   "execution_count": 18,
   "metadata": {
    "scrolled": false
   },
   "outputs": [],
   "source": [
    "prices = egg_demand.groupby('no of family members').mean()['price']"
   ]
  },
  {
   "cell_type": "code",
   "execution_count": 13,
   "metadata": {
    "scrolled": true
   },
   "outputs": [
    {
     "data": {
      "image/png": "[encoded data removed]",
      "text/plain": [
       "<Figure size 432x288 with 2 Axes>"
      ]
     },
     "metadata": {},
     "output_type": "display_data"
    }
   ],
   "source": [
    "x = [2,2,3,4,5,6,7]\n",
    "fig, ax1 = plt.subplots()\n",
    "ax2 = ax1.twinx()\n",
    "ax1.bar(members, Quantity_Ordered, color ='g' )\n",
    "ax2.plot(members, prices, 'b-')\n",
    "\n",
    "ax1.set_xlabel('No of family members')\n",
    "ax1.set_ylabel('Quantity Ordered',color = 'g')\n",
    "ax2.set_ylabel('Price', color = 'b')\n",
    "ax1.set_xticklabels(x, rotation = 'vertical', size = 8)\n",
    "\n",
    "plt.savefig(\"Famaly-Qty-Price.png\")\n",
    "plt.show()"
   ]
  },
  {
   "cell_type": "markdown",
   "metadata": {},
   "source": [
    "According to this graph it shows more mean prices distributed around 20 -22. As our 1st conclusion we should stay with 17 – 22\n",
    "price and as our 2nd conclusion we should give more attention to families that members with 4,5 & 6.  So, families that members\n",
    "with 4,5 & 6 they are willing to buy an egg for Rs.22.29, Rs. 20.92 & Rs. 22.14 respectively."
   ]
  },
  {
   "cell_type": "markdown",
   "metadata": {},
   "source": [
    "#### By above all conclusions and information it shows the customer friendly price is around 20 – 22 so we can come up with average price as Rs. 21.78."
   ]
  },
  {
   "cell_type": "markdown",
   "metadata": {},
   "source": [
    "### Construct the Demand Equation to Finalize the Price.\n",
    "        The demand curve shows the number of goods consumers are willing to buy at each market price. A linear demand curve can be plotted using the following equation:\n",
    "                                            QD = A – B(P)\n",
    "Q = quantity demand\n",
    "A = all factors affecting price other than price\n",
    "B= slope of the demand curve\n",
    "P = Price of the good.\n",
    "\n",
    "Let’s look how our sample data distributed and construct the demand equation for it."
   ]
  },
  {
   "cell_type": "code",
   "execution_count": 14,
   "metadata": {},
   "outputs": [],
   "source": [
    "egg_demand['per_person_qty'] = egg_demand['quantity']/egg_demand['no of family members']"
   ]
  },
  {
   "cell_type": "code",
   "execution_count": 15,
   "metadata": {},
   "outputs": [],
   "source": [
    "result4 = egg_demand.groupby('price').mean()['per_person_qty']"
   ]
  },
  {
   "cell_type": "code",
   "execution_count": 16,
   "metadata": {},
   "outputs": [
    {
     "data": {
      "image/png": "[encoded data removed]",
      "text/plain": [
       "<Figure size 432x288 with 1 Axes>"
      ]
     },
     "metadata": {},
     "output_type": "display_data"
    }
   ],
   "source": [
    "prices = [price for price, df in egg_demand.groupby('price')]\n",
    "\n",
    "stats = linregress(result4,prices)\n",
    "\n",
    "m = stats.slope\n",
    "b = stats.intercept\n",
    "\n",
    "plt.scatter(result4,prices,color='b')\n",
    "plt.plot(result4, m * result4 + b, color=\"red\")\n",
    "plt.title('Household Demand for eggs')\n",
    "plt.ylabel('Price')\n",
    "plt.xlabel('Consumption Per Person per Household')\n",
    "plt.savefig(\"Demand.png\")\n",
    "plt.show()"
   ]
  },
  {
   "cell_type": "code",
   "execution_count": 17,
   "metadata": {},
   "outputs": [
    {
     "name": "stdout",
     "output_type": "stream",
     "text": [
      "-1.3323220235466975\n",
      "36.26298565717937\n"
     ]
    }
   ],
   "source": [
    "print(m)\n",
    "print(b)"
   ]
  },
  {
   "cell_type": "markdown",
   "metadata": {},
   "source": [
    "Our slope of demand curve(B): --0.0334\n",
    "All factors affecting price other than price(A): 31.0682\n",
    "So, our demand equation is:"
   ]
  },
  {
   "cell_type": "markdown",
   "metadata": {},
   "source": [
    "#### According to our production analysis details, the cost of production for an egg is 13 – 15 rupees, therefore if we get 21.78 rupees as our selling price and round it then the price is 22 rupees. So, the farmer can get Rs. 6 profit by an egg. Also, we can utilize our consumer as well because if we look at our demand curve it shows price 22 & quantity of good both are in around middle on that line."
   ]
  }
 ],
 "metadata": {
  "kernelspec": {
   "display_name": "Python 3",
   "language": "python",
   "name": "python3"
  },
  "language_info": {
   "codemirror_mode": {
    "name": "ipython",
    "version": 3
   },
   "file_extension": ".py",
   "mimetype": "text/x-python",
   "name": "python",
   "nbconvert_exporter": "python",
   "pygments_lexer": "ipython3",
   "version": "3.7.6"
  }
 },
 "nbformat": 4,
 "nbformat_minor": 4
}
